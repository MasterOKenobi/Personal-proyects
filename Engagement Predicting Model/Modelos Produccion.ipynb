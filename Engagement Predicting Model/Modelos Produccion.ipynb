{
 "cells": [
  {
   "cell_type": "markdown",
   "id": "7b405885-0a38-4fd1-a599-db87c41d2822",
   "metadata": {},
   "source": [
    "## Importamos librerias necesarias"
   ]
  },
  {
   "cell_type": "code",
   "execution_count": 2,
   "id": "58a0c5f9-8ffd-45b2-90d5-351e08606c2f",
   "metadata": {},
   "outputs": [],
   "source": [
    "import pandas as pd\n",
    "import numpy as np\n",
    "from sklearn.svm import SVC\n",
    "from sklearn.model_selection import train_test_split\n",
    "from sklearn.model_selection import GridSearchCV\n",
    "from sklearn.metrics import accuracy_score\n",
    "import warnings\n",
    "warnings.filterwarnings('ignore')\n",
    "import os\n",
    "import time\n",
    "import matplotlib.pyplot as plt\n",
    "from sklearn.metrics import confusion_matrix\n",
    "from sklearn.metrics import ConfusionMatrixDisplay\n",
    "import pickle"
   ]
  },
  {
   "cell_type": "markdown",
   "id": "8e973863-f665-43d9-ae49-4dd546208625",
   "metadata": {},
   "source": [
    "## Se importan dataset de prueba y entrenamiento, se agrega columna de variable target y se unifican"
   ]
  },
  {
   "cell_type": "code",
   "execution_count": 3,
   "id": "2686871d-e504-4e6a-8be7-088e850a1c92",
   "metadata": {},
   "outputs": [],
   "source": [
    "path = 'TestDataset2/DatosTrainingCompletos2.csv' #datos de entrenamiento\n",
    "datos_train = pd.read_csv(path)\n",
    "path = 'TrainDataset/TrainLabels.csv' #resultados obtenidos en DAISEE\n",
    "labels_train = pd.read_csv(path)\n",
    "merged = pd.merge(left=datos_train,right=labels_train, left_on='ClipID', right_on='ClipID')"
   ]
  },
  {
   "cell_type": "code",
   "execution_count": 4,
   "id": "6ec3be04-797f-4780-a0f7-7c48310e2182",
   "metadata": {},
   "outputs": [],
   "source": [
    "# ==============================================================================\n",
    "path = 'TestDataset2/DatosTestCompletos2.csv' #datos de prueba\n",
    "datos_test = pd.read_csv(path)\n",
    "path = 'TestDataset2/TestLabels.csv' #resultados obtenidos en DAISEE\n",
    "labels_test = pd.read_csv(path)\n",
    "## Se combinan ambos datos, y se realiza un join a traves de la columna Clip ID para asegurar que cada fila refleja el resultado del video correcto\n",
    "# ==============================================================================\n",
    "merged2 = pd.merge(left=datos_test,right=labels_test, left_on='ClipID', right_on='ClipID')\n",
    "datos_completos=pd.concat([merged,merged2],ignore_index=True)\n",
    "datos_completos=datos_completos.drop('ClipID', axis = 'columns')"
   ]
  },
  {
   "cell_type": "markdown",
   "id": "55692da1-dd4e-496e-9922-fd78ce847a40",
   "metadata": {},
   "source": [
    "# Modelo Engagement"
   ]
  },
  {
   "cell_type": "markdown",
   "id": "06ef8dc2-8217-4593-8d9a-35b131f126ce",
   "metadata": {},
   "source": [
    "## Procesamiento de datos para modelo engagement"
   ]
  },
  {
   "cell_type": "code",
   "execution_count": 5,
   "id": "bdd1536f-e575-4564-99b4-f1d12224ebbb",
   "metadata": {},
   "outputs": [],
   "source": [
    "datos_engagement=datos_completos.drop(columns=['Boredom','Confusion','Frustration ']) #se eliminan columnas de Boredom, Confusion y Frustration\n",
    "datos_engagement['Engagement']= datos_engagement['Engagement'].replace(0,1) \n",
    "# ==============================================================================\n",
    "# Debido a que hay muy pocas muestras con resultado cero, se reemplazan con las muestras de resultado uno"
   ]
  },
  {
   "cell_type": "code",
   "execution_count": 6,
   "id": "2f4e22cb-027f-4505-b1aa-161f6fcad95a",
   "metadata": {},
   "outputs": [
    {
     "data": {
      "text/plain": [
       "(2970, 1496)"
      ]
     },
     "execution_count": 6,
     "metadata": {},
     "output_type": "execute_result"
    }
   ],
   "source": [
    "# Para balancear el dataset obtenido se toman la misma cantidad de muestras obtenidas por cada valor: \"1,2,3\"\n",
    "# ==============================================================================\n",
    "df=datos_engagement[(datos_engagement.Engagement==1)] \n",
    "df1=datos_engagement[(datos_engagement.Engagement==2)]\n",
    "df1=df1.iloc[0:len(df)]\n",
    "df2=datos_engagement[(datos_engagement.Engagement==3)]\n",
    "df2=df2.iloc[0:len(df)]\n",
    "datosbalanceados_engagement=pd.concat([df,df1,df2],ignore_index=True) #Luego se combinan para formar un dataset con muestras balanceadas para utilizar en el modelo\n",
    "datosbalanceados_engagement.shape"
   ]
  },
  {
   "cell_type": "code",
   "execution_count": 35,
   "id": "95d2815a-4388-46f2-8874-28e11762c597",
   "metadata": {},
   "outputs": [
    {
     "name": "stdout",
     "output_type": "stream",
     "text": [
      "            px_0  py_0  pz_0  px_1  py_1  pz_1  px_2  py_2  pz_2  px_3  ...  \\\n",
      "Engagement                                                              ...   \n",
      "1            990   990   990   990   990   990   990   990   990   990  ...   \n",
      "2            990   990   990   990   990   990   990   990   990   990  ...   \n",
      "3            990   990   990   990   990   990   990   990   990   990  ...   \n",
      "\n",
      "            au14  au12  au2  au11  au23  au6  au1  au4  au25  au9  \n",
      "Engagement                                                         \n",
      "1            990   990  990   990   990  990  990  990   990  990  \n",
      "2            990   990  990   990   990  990  990  990   990  990  \n",
      "3            990   990  990   990   990  990  990  990   990  990  \n",
      "\n",
      "[3 rows x 1495 columns]\n"
     ]
    }
   ],
   "source": [
    "freq = datosbalanceados_engagement.groupby(['Engagement']).count() \n",
    "print(freq)"
   ]
  },
  {
   "cell_type": "markdown",
   "id": "7f72f0f1-e845-4945-9ca2-2f0670bc727f",
   "metadata": {},
   "source": [
    "## Dividir datos en entrenamiento y test, creacion de modelo usando SVM"
   ]
  },
  {
   "cell_type": "code",
   "execution_count": 36,
   "id": "c29959ff-fd68-45ff-8837-c34086867d69",
   "metadata": {},
   "outputs": [],
   "source": [
    "X_train, X_test, y_train, y_test = train_test_split(\n",
    "                                        datosbalanceados_engagement.drop('Engagement', axis = 'columns'),\n",
    "                                        datosbalanceados_engagement['Engagement'],\n",
    "                                        train_size   = 0.8,\n",
    "                                        random_state = 1234,\n",
    "                                        shuffle      = True\n",
    "                                    )"
   ]
  },
  {
   "cell_type": "code",
   "execution_count": 37,
   "id": "0d8b06de-d732-4af2-9bd4-95267717b28d",
   "metadata": {},
   "outputs": [
    {
     "data": {
      "text/plain": [
       "SVC(C=1000, gamma=1, kernel='linear', random_state=123)"
      ]
     },
     "execution_count": 37,
     "metadata": {},
     "output_type": "execute_result"
    }
   ],
   "source": [
    "# Creación del modelo SVM lineal\n",
    "# ==============================================================================\n",
    "modelo = SVC(C = 1000, kernel = 'linear',gamma=1, random_state=123)\n",
    "modelo.fit(X_train, y_train)"
   ]
  },
  {
   "cell_type": "markdown",
   "id": "c79ae459-1904-4fb9-9da9-42046820b5e2",
   "metadata": {},
   "source": [
    "## Resultado de precision y matriz de confusion"
   ]
  },
  {
   "cell_type": "code",
   "execution_count": 38,
   "id": "355edbe9-1cda-45d9-bd86-d77bd34b6b52",
   "metadata": {},
   "outputs": [
    {
     "name": "stdout",
     "output_type": "stream",
     "text": [
      "\n",
      "El accuracy de test es: 93.26599326599326%\n"
     ]
    }
   ],
   "source": [
    "# Se crea prediccion del modelo y se evalua con el parametro accuracy\n",
    "# ==============================================================================\n",
    "predicciones = modelo.predict(X_test)\n",
    "accuracy = accuracy_score(\n",
    "            y_true    = y_test,\n",
    "            y_pred    = predicciones,\n",
    "            normalize = True\n",
    "           )\n",
    "print(\"\")\n",
    "print(f\"El accuracy de test es: {100*accuracy}%\")"
   ]
  },
  {
   "cell_type": "code",
   "execution_count": 39,
   "id": "145d4a81-2db7-4b02-9fbb-aaa1f7e8a46a",
   "metadata": {},
   "outputs": [
    {
     "data": {
      "text/plain": [
       "<sklearn.metrics._plot.confusion_matrix.ConfusionMatrixDisplay at 0x7ff1acf1a130>"
      ]
     },
     "execution_count": 39,
     "metadata": {},
     "output_type": "execute_result"
    },
    {
     "data": {
      "image/png": "[encoded data removed]",
      "text/plain": [
       "<Figure size 432x288 with 2 Axes>"
      ]
     },
     "metadata": {
      "needs_background": "light"
     },
     "output_type": "display_data"
    }
   ],
   "source": [
    "ConfusionMatrixDisplay.from_predictions(y_test, predicciones, cmap=plt.cm.Blues)"
   ]
  },
  {
   "cell_type": "code",
   "execution_count": 40,
   "id": "f0550a83-cda0-4fbf-a692-780b1441b95b",
   "metadata": {},
   "outputs": [],
   "source": [
    "with open(\"EngagementProduccion.pickle\", \"wb\") as f:\n",
    "    pickle.dump(modelo, f)"
   ]
  },
  {
   "cell_type": "code",
   "execution_count": 42,
   "id": "e96623d8-445a-4e2a-8a34-00f532f4329c",
   "metadata": {},
   "outputs": [
    {
     "data": {
      "text/html": [
       "<div>\n",
       "<style scoped>\n",
       "    .dataframe tbody tr th:only-of-type {\n",
       "        vertical-align: middle;\n",
       "    }\n",
       "\n",
       "    .dataframe tbody tr th {\n",
       "        vertical-align: top;\n",
       "    }\n",
       "\n",
       "    .dataframe thead th {\n",
       "        text-align: right;\n",
       "    }\n",
       "</style>\n",
       "<table border=\"1\" class=\"dataframe\">\n",
       "  <thead>\n",
       "    <tr style=\"text-align: right;\">\n",
       "      <th></th>\n",
       "      <th>px_0</th>\n",
       "      <th>py_0</th>\n",
       "      <th>pz_0</th>\n",
       "      <th>px_1</th>\n",
       "      <th>py_1</th>\n",
       "      <th>pz_1</th>\n",
       "      <th>px_2</th>\n",
       "      <th>py_2</th>\n",
       "      <th>pz_2</th>\n",
       "      <th>px_3</th>\n",
       "      <th>...</th>\n",
       "      <th>au14</th>\n",
       "      <th>au12</th>\n",
       "      <th>au2</th>\n",
       "      <th>au11</th>\n",
       "      <th>au23</th>\n",
       "      <th>au6</th>\n",
       "      <th>au1</th>\n",
       "      <th>au4</th>\n",
       "      <th>au25</th>\n",
       "      <th>au9</th>\n",
       "    </tr>\n",
       "  </thead>\n",
       "  <tbody>\n",
       "    <tr>\n",
       "      <th>1758</th>\n",
       "      <td>0.607971</td>\n",
       "      <td>0.456334</td>\n",
       "      <td>-0.582226</td>\n",
       "      <td>0.619692</td>\n",
       "      <td>0.404131</td>\n",
       "      <td>-0.556028</td>\n",
       "      <td>0.630962</td>\n",
       "      <td>0.401428</td>\n",
       "      <td>-0.555608</td>\n",
       "      <td>0.641876</td>\n",
       "      <td>...</td>\n",
       "      <td>8</td>\n",
       "      <td>1</td>\n",
       "      <td>6</td>\n",
       "      <td>3</td>\n",
       "      <td>1</td>\n",
       "      <td>2</td>\n",
       "      <td>5</td>\n",
       "      <td>4</td>\n",
       "      <td>6</td>\n",
       "      <td>1</td>\n",
       "    </tr>\n",
       "    <tr>\n",
       "      <th>519</th>\n",
       "      <td>0.515994</td>\n",
       "      <td>0.547110</td>\n",
       "      <td>-3.070136</td>\n",
       "      <td>0.560851</td>\n",
       "      <td>0.452305</td>\n",
       "      <td>-3.015197</td>\n",
       "      <td>0.586232</td>\n",
       "      <td>0.449883</td>\n",
       "      <td>-3.015527</td>\n",
       "      <td>0.606303</td>\n",
       "      <td>...</td>\n",
       "      <td>0</td>\n",
       "      <td>2</td>\n",
       "      <td>5</td>\n",
       "      <td>1</td>\n",
       "      <td>4</td>\n",
       "      <td>1</td>\n",
       "      <td>4</td>\n",
       "      <td>3</td>\n",
       "      <td>6</td>\n",
       "      <td>0</td>\n",
       "    </tr>\n",
       "    <tr>\n",
       "      <th>2731</th>\n",
       "      <td>0.531908</td>\n",
       "      <td>0.717264</td>\n",
       "      <td>-1.100434</td>\n",
       "      <td>0.557936</td>\n",
       "      <td>0.662062</td>\n",
       "      <td>-1.044221</td>\n",
       "      <td>0.572559</td>\n",
       "      <td>0.664665</td>\n",
       "      <td>-1.044578</td>\n",
       "      <td>0.588964</td>\n",
       "      <td>...</td>\n",
       "      <td>7</td>\n",
       "      <td>2</td>\n",
       "      <td>6</td>\n",
       "      <td>1</td>\n",
       "      <td>1</td>\n",
       "      <td>3</td>\n",
       "      <td>4</td>\n",
       "      <td>3</td>\n",
       "      <td>7</td>\n",
       "      <td>1</td>\n",
       "    </tr>\n",
       "    <tr>\n",
       "      <th>1526</th>\n",
       "      <td>0.597895</td>\n",
       "      <td>0.460180</td>\n",
       "      <td>-0.490422</td>\n",
       "      <td>0.616870</td>\n",
       "      <td>0.421516</td>\n",
       "      <td>-0.449988</td>\n",
       "      <td>0.628382</td>\n",
       "      <td>0.422402</td>\n",
       "      <td>-0.449728</td>\n",
       "      <td>0.639378</td>\n",
       "      <td>...</td>\n",
       "      <td>8</td>\n",
       "      <td>1</td>\n",
       "      <td>8</td>\n",
       "      <td>1</td>\n",
       "      <td>8</td>\n",
       "      <td>3</td>\n",
       "      <td>6</td>\n",
       "      <td>5</td>\n",
       "      <td>6</td>\n",
       "      <td>2</td>\n",
       "    </tr>\n",
       "    <tr>\n",
       "      <th>1508</th>\n",
       "      <td>0.638720</td>\n",
       "      <td>0.477430</td>\n",
       "      <td>-0.498970</td>\n",
       "      <td>0.653526</td>\n",
       "      <td>0.437295</td>\n",
       "      <td>-0.458080</td>\n",
       "      <td>0.663807</td>\n",
       "      <td>0.437210</td>\n",
       "      <td>-0.457772</td>\n",
       "      <td>0.673490</td>\n",
       "      <td>...</td>\n",
       "      <td>8</td>\n",
       "      <td>2</td>\n",
       "      <td>7</td>\n",
       "      <td>0</td>\n",
       "      <td>0</td>\n",
       "      <td>2</td>\n",
       "      <td>5</td>\n",
       "      <td>5</td>\n",
       "      <td>7</td>\n",
       "      <td>1</td>\n",
       "    </tr>\n",
       "  </tbody>\n",
       "</table>\n",
       "<p>5 rows × 1495 columns</p>\n",
       "</div>"
      ],
      "text/plain": [
       "          px_0      py_0      pz_0      px_1      py_1      pz_1      px_2  \\\n",
       "1758  0.607971  0.456334 -0.582226  0.619692  0.404131 -0.556028  0.630962   \n",
       "519   0.515994  0.547110 -3.070136  0.560851  0.452305 -3.015197  0.586232   \n",
       "2731  0.531908  0.717264 -1.100434  0.557936  0.662062 -1.044221  0.572559   \n",
       "1526  0.597895  0.460180 -0.490422  0.616870  0.421516 -0.449988  0.628382   \n",
       "1508  0.638720  0.477430 -0.498970  0.653526  0.437295 -0.458080  0.663807   \n",
       "\n",
       "          py_2      pz_2      px_3  ...  au14  au12  au2  au11  au23  au6  \\\n",
       "1758  0.401428 -0.555608  0.641876  ...     8     1    6     3     1    2   \n",
       "519   0.449883 -3.015527  0.606303  ...     0     2    5     1     4    1   \n",
       "2731  0.664665 -1.044578  0.588964  ...     7     2    6     1     1    3   \n",
       "1526  0.422402 -0.449728  0.639378  ...     8     1    8     1     8    3   \n",
       "1508  0.437210 -0.457772  0.673490  ...     8     2    7     0     0    2   \n",
       "\n",
       "      au1  au4  au25  au9  \n",
       "1758    5    4     6    1  \n",
       "519     4    3     6    0  \n",
       "2731    4    3     7    1  \n",
       "1526    6    5     6    2  \n",
       "1508    5    5     7    1  \n",
       "\n",
       "[5 rows x 1495 columns]"
      ]
     },
     "execution_count": 42,
     "metadata": {},
     "output_type": "execute_result"
    }
   ],
   "source": [
    "X_train.head()"
   ]
  },
  {
   "cell_type": "markdown",
   "id": "5dcdd601-50c5-4949-bb82-d66658964840",
   "metadata": {},
   "source": [
    "# Modelo Confusion"
   ]
  },
  {
   "cell_type": "markdown",
   "id": "fe6da224-c170-4f04-8e0c-847e74ebab73",
   "metadata": {},
   "source": [
    "## Procesamiento de datos para modelo confusion"
   ]
  },
  {
   "cell_type": "code",
   "execution_count": 13,
   "id": "c7ff2e38-0777-48ba-b1ea-d5f1bc1bed63",
   "metadata": {},
   "outputs": [],
   "source": [
    "datos_confusion=datos_completos.drop(columns=['Boredom','Engagement','Frustration ']) #se eliminan columnas de Boredom, Confusion y Frustration\n",
    "datos_confusion['Confusion']= datos_confusion['Confusion'].replace(3,2) \n",
    "# ==============================================================================\n",
    "# Debido a que hay muy pocas muestras con resultado \"tres\", se reemplazan con las muestras de resultado \"dos\""
   ]
  },
  {
   "cell_type": "code",
   "execution_count": 14,
   "id": "d61dbff7-2efe-4f5d-b330-67927eed9470",
   "metadata": {},
   "outputs": [
    {
     "data": {
      "text/plain": [
       "(6090, 1496)"
      ]
     },
     "execution_count": 14,
     "metadata": {},
     "output_type": "execute_result"
    }
   ],
   "source": [
    "# Para balancear el dataset obtenido se toman la misma cantidad de muestras obtenidas por cada valor: \"0,1,2\"\n",
    "# ==============================================================================\n",
    "df=datos_confusion[(datos_confusion.Confusion==2)] \n",
    "df1=datos_confusion[(datos_confusion.Confusion==1)]\n",
    "df1=df1.iloc[0:len(df)]\n",
    "df2=datos_confusion[(datos_confusion.Confusion==0)]\n",
    "df2=df2.iloc[0:len(df)]\n",
    "datosbalanceados_confusion=pd.concat([df,df1,df2],ignore_index=True) #Luego se combinan para formar un dataset con muestras balanceadas para utilizar en el modelo\n",
    "datosbalanceados_confusion.shape"
   ]
  },
  {
   "cell_type": "code",
   "execution_count": 15,
   "id": "b25418a0-41e5-4fe7-a62b-f6cf6687f5d9",
   "metadata": {},
   "outputs": [
    {
     "name": "stdout",
     "output_type": "stream",
     "text": [
      "           px_0  py_0  pz_0  px_1  py_1  pz_1  px_2  py_2  pz_2  px_3  ...  \\\n",
      "Confusion                                                              ...   \n",
      "0          2030  2030  2030  2030  2030  2030  2030  2030  2030  2030  ...   \n",
      "1          2030  2030  2030  2030  2030  2030  2030  2030  2030  2030  ...   \n",
      "2          2030  2030  2030  2030  2030  2030  2030  2030  2030  2030  ...   \n",
      "\n",
      "           au14  au12   au2  au11  au23   au6   au1   au4  au25   au9  \n",
      "Confusion                                                              \n",
      "0          2030  2030  2030  2030  2030  2030  2030  2030  2030  2030  \n",
      "1          2030  2030  2030  2030  2030  2030  2030  2030  2030  2030  \n",
      "2          2030  2030  2030  2030  2030  2030  2030  2030  2030  2030  \n",
      "\n",
      "[3 rows x 1495 columns]\n"
     ]
    }
   ],
   "source": [
    "freq = datosbalanceados_confusion.groupby(['Confusion']).count() # se comprueba que esten balanceados\n",
    "print(freq)"
   ]
  },
  {
   "cell_type": "markdown",
   "id": "fe9439aa-8f67-40dc-9a70-846d5418dbb8",
   "metadata": {},
   "source": [
    "## Dividir datos en entrenamiento y test, creacion de modelo usando SVM"
   ]
  },
  {
   "cell_type": "code",
   "execution_count": 16,
   "id": "41e84c60-aa3c-4b71-96cb-b2ff4db2a21a",
   "metadata": {},
   "outputs": [],
   "source": [
    "X_train, X_test, y_train, y_test = train_test_split(\n",
    "                                        datosbalanceados_confusion.drop('Confusion', axis = 'columns'),\n",
    "                                        datosbalanceados_confusion['Confusion'],\n",
    "                                        train_size   = 0.8,\n",
    "                                        random_state = 1234,\n",
    "                                        shuffle      = True\n",
    "                                    )"
   ]
  },
  {
   "cell_type": "code",
   "execution_count": 17,
   "id": "bbfba21b-2a33-4e45-945c-83e468f0f7bc",
   "metadata": {},
   "outputs": [
    {
     "data": {
      "text/plain": [
       "SVC(C=100, gamma=0.001, random_state=123)"
      ]
     },
     "execution_count": 17,
     "metadata": {},
     "output_type": "execute_result"
    }
   ],
   "source": [
    "# Creación del modelo SVM lineal\n",
    "# ==============================================================================\n",
    "modelo = SVC(C = 100, kernel = 'rbf', gamma=0.001, random_state=123)\n",
    "modelo.fit(X_train, y_train)"
   ]
  },
  {
   "cell_type": "markdown",
   "id": "1511c16f-634b-488a-8934-0ee8f570a68b",
   "metadata": {},
   "source": [
    "## Resultado de precision y matriz de confusion"
   ]
  },
  {
   "cell_type": "code",
   "execution_count": 18,
   "id": "c55c37ab-a200-495d-ac2f-2ee3802c9a9f",
   "metadata": {},
   "outputs": [
    {
     "name": "stdout",
     "output_type": "stream",
     "text": [
      "\n",
      "El accuracy de test es: 79.63875205254516%\n"
     ]
    }
   ],
   "source": [
    "# Se crea prediccion del modelo y se evalua con el parametro accuracy\n",
    "# ==============================================================================\n",
    "predicciones = modelo.predict(X_test)\n",
    "accuracy = accuracy_score(\n",
    "            y_true    = y_test,\n",
    "            y_pred    = predicciones,\n",
    "            normalize = True\n",
    "           )\n",
    "print(\"\")\n",
    "print(f\"El accuracy de test es: {100*accuracy}%\")"
   ]
  },
  {
   "cell_type": "code",
   "execution_count": 19,
   "id": "fc3f5140-b119-4844-b9be-b9b3459a764b",
   "metadata": {},
   "outputs": [
    {
     "data": {
      "text/plain": [
       "<sklearn.metrics._plot.confusion_matrix.ConfusionMatrixDisplay at 0x7ff1f8352c70>"
      ]
     },
     "execution_count": 19,
     "metadata": {},
     "output_type": "execute_result"
    },
    {
     "data": {
      "image/png": "[encoded data removed]",
      "text/plain": [
       "<Figure size 432x288 with 2 Axes>"
      ]
     },
     "metadata": {
      "needs_background": "light"
     },
     "output_type": "display_data"
    }
   ],
   "source": [
    "ConfusionMatrixDisplay.from_predictions(y_test, predicciones, cmap=plt.cm.Blues)"
   ]
  },
  {
   "cell_type": "code",
   "execution_count": 20,
   "id": "79a1ca47-35a9-44dc-afaa-bb2e13b24418",
   "metadata": {},
   "outputs": [],
   "source": [
    "with open(\"ConfusionProduccion.pickle\", \"wb\") as f:\n",
    "    pickle.dump(modelo, f)"
   ]
  },
  {
   "cell_type": "markdown",
   "id": "f35cac2b-8872-4c04-b2c5-b51c05304cae",
   "metadata": {},
   "source": [
    "# Modelo Frustration"
   ]
  },
  {
   "cell_type": "markdown",
   "id": "24f9bd9a-9c65-4fc8-9af9-1407d3bb7c85",
   "metadata": {},
   "source": [
    "## Procesamiento de datos para modelo frustration"
   ]
  },
  {
   "cell_type": "code",
   "execution_count": 21,
   "id": "3b8618f8-b548-4b47-9d5f-00cd2e8a13dd",
   "metadata": {},
   "outputs": [],
   "source": [
    "datos_frustration=datos_completos.drop(columns=['Boredom','Engagement','Confusion']) #se eliminan columnas de Boredom, Confusion y Engagement\n",
    "datos_frustration = datos_frustration.rename(columns={'Frustration ':'Frustration'})\n",
    "datos_frustration['Frustration']= datos_frustration['Frustration'].replace(3,2) \n",
    "# ==============================================================================\n",
    "# Debido a que hay muy pocas muestras con resultado \"tres\", se reemplazan con las muestras de resultado \"dos\""
   ]
  },
  {
   "cell_type": "code",
   "execution_count": 22,
   "id": "93b42887-7640-430b-9fa3-f459ffb642e2",
   "metadata": {},
   "outputs": [
    {
     "data": {
      "text/plain": [
       "(3780, 1496)"
      ]
     },
     "execution_count": 22,
     "metadata": {},
     "output_type": "execute_result"
    }
   ],
   "source": [
    "# Para balancear el dataset obtenido se toman la misma cantidad de muestras obtenidas por cada valor: \"0,1,2\"\n",
    "# ==============================================================================\n",
    "df=datos_frustration[(datos_frustration.Frustration==2)] \n",
    "df1=datos_frustration[(datos_frustration.Frustration==1)]\n",
    "df1=df1.iloc[0:len(df)]\n",
    "df2=datos_frustration[(datos_frustration.Frustration==0)]\n",
    "df2=df2.iloc[0:len(df)]\n",
    "datosbalanceados_frustration=pd.concat([df,df1,df2],ignore_index=True) #Luego se combinan para formar un dataset con muestras balanceadas para utilizar en el modelo\n",
    "datosbalanceados_frustration.shape"
   ]
  },
  {
   "cell_type": "code",
   "execution_count": 23,
   "id": "ea4f7bb4-bde5-49d8-93ad-a5194b2bf1ef",
   "metadata": {},
   "outputs": [
    {
     "name": "stdout",
     "output_type": "stream",
     "text": [
      "             px_0  py_0  pz_0  px_1  py_1  pz_1  px_2  py_2  pz_2  px_3  ...  \\\n",
      "Frustration                                                              ...   \n",
      "0            1260  1260  1260  1260  1260  1260  1260  1260  1260  1260  ...   \n",
      "1            1260  1260  1260  1260  1260  1260  1260  1260  1260  1260  ...   \n",
      "2            1260  1260  1260  1260  1260  1260  1260  1260  1260  1260  ...   \n",
      "\n",
      "             au14  au12   au2  au11  au23   au6   au1   au4  au25   au9  \n",
      "Frustration                                                              \n",
      "0            1260  1260  1260  1260  1260  1260  1260  1260  1260  1260  \n",
      "1            1260  1260  1260  1260  1260  1260  1260  1260  1260  1260  \n",
      "2            1260  1260  1260  1260  1260  1260  1260  1260  1260  1260  \n",
      "\n",
      "[3 rows x 1495 columns]\n"
     ]
    }
   ],
   "source": [
    "freq = datosbalanceados_frustration.groupby(['Frustration']).count() # se comprueba que esten balanceados\n",
    "print(freq)"
   ]
  },
  {
   "cell_type": "markdown",
   "id": "912073c8-81ce-41f2-a96b-73eb90e97b84",
   "metadata": {},
   "source": [
    "## Dividir datos en entrenamiento y test, creacion de modelo usando SVM"
   ]
  },
  {
   "cell_type": "code",
   "execution_count": 24,
   "id": "4ca32cbb-f2c5-4f54-b53d-ee2f947f7ef0",
   "metadata": {},
   "outputs": [],
   "source": [
    "X_train, X_test, y_train, y_test = train_test_split(\n",
    "                                        datosbalanceados_frustration.drop('Frustration', axis = 'columns'),\n",
    "                                        datosbalanceados_frustration['Frustration'],\n",
    "                                        train_size   = 0.8,\n",
    "                                        random_state = 1234,\n",
    "                                        shuffle      = True\n",
    "                                    )"
   ]
  },
  {
   "cell_type": "code",
   "execution_count": 25,
   "id": "b055caa0-da95-471f-b0e7-61324df7c37d",
   "metadata": {},
   "outputs": [
    {
     "data": {
      "text/plain": [
       "SVC(C=10, gamma=0.01, random_state=123)"
      ]
     },
     "execution_count": 25,
     "metadata": {},
     "output_type": "execute_result"
    }
   ],
   "source": [
    "# Creación del modelo SVM lineal\n",
    "# ==============================================================================\n",
    "modelo = SVC(C = 10, kernel = 'rbf', gamma=0.01, random_state=123)\n",
    "modelo.fit(X_train, y_train)"
   ]
  },
  {
   "cell_type": "markdown",
   "id": "e0c66c52-ed1c-4a22-8cdc-e0fa9fa236d6",
   "metadata": {},
   "source": [
    "## Resultado de precision y matriz de confusion"
   ]
  },
  {
   "cell_type": "code",
   "execution_count": 26,
   "id": "c213f448-95c8-455e-a2b6-aa980b858934",
   "metadata": {},
   "outputs": [
    {
     "name": "stdout",
     "output_type": "stream",
     "text": [
      "\n",
      "El accuracy de test es: 89.41798941798942%\n"
     ]
    }
   ],
   "source": [
    "# Se crea prediccion del modelo y se evalua con el parametro accuracy\n",
    "# ==============================================================================\n",
    "predicciones = modelo.predict(X_test)\n",
    "accuracy = accuracy_score(\n",
    "            y_true    = y_test,\n",
    "            y_pred    = predicciones,\n",
    "            normalize = True\n",
    "           )\n",
    "print(\"\")\n",
    "print(f\"El accuracy de test es: {100*accuracy}%\")"
   ]
  },
  {
   "cell_type": "code",
   "execution_count": 27,
   "id": "26411f7f-7b22-4daf-9052-00190426be05",
   "metadata": {},
   "outputs": [
    {
     "data": {
      "text/plain": [
       "<sklearn.metrics._plot.confusion_matrix.ConfusionMatrixDisplay at 0x7ff1ad5a2160>"
      ]
     },
     "execution_count": 27,
     "metadata": {},
     "output_type": "execute_result"
    },
    {
     "data": {
      "image/png": "[encoded data removed]",
      "text/plain": [
       "<Figure size 432x288 with 2 Axes>"
      ]
     },
     "metadata": {
      "needs_background": "light"
     },
     "output_type": "display_data"
    }
   ],
   "source": [
    "ConfusionMatrixDisplay.from_predictions(y_test, predicciones, cmap=plt.cm.Blues)"
   ]
  },
  {
   "cell_type": "code",
   "execution_count": 28,
   "id": "818f82ca-88ac-4043-8c00-0366a470ecc2",
   "metadata": {},
   "outputs": [],
   "source": [
    "with open(\"FrustrationProduccion.pickle\", \"wb\") as f:\n",
    "    pickle.dump(modelo, f)"
   ]
  }
 ],
 "metadata": {
  "kernelspec": {
   "display_name": "default:Python",
   "language": "python",
   "name": "conda-env-default-py"
  },
  "language_info": {
   "codemirror_mode": {
    "name": "ipython",
    "version": 3
   },
   "file_extension": ".py",
   "mimetype": "text/x-python",
   "name": "python",
   "nbconvert_exporter": "python",
   "pygments_lexer": "ipython3",
   "version": "3.9.7"
  }
 },
 "nbformat": 4,
 "nbformat_minor": 5
}
